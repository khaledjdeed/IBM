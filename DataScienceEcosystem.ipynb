{
 "cells": [
  {
   "cell_type": "markdown",
   "id": "c87545f1",
   "metadata": {},
   "source": [
    "# Data Science Tools and Ecosystem "
   ]
  },
  {
   "cell_type": "markdown",
   "id": "c897aff2",
   "metadata": {},
   "source": [
    "In this notebook, Data Science tools and ecosystem are summarized."
   ]
  },
  {
   "cell_type": "markdown",
   "id": "88cab60c",
   "metadata": {},
   "source": [
    "**Objectives**:\n",
    "* List popular languages for Data Science\n",
    "* List of popular data science libraries\n",
    "* Table of data science tools\n",
    "* Example of arithmatic expressions\n"
   ]
  },
  {
   "cell_type": "code",
   "execution_count": null,
   "id": "31acc3e8",
   "metadata": {},
   "outputs": [],
   "source": []
  },
  {
   "cell_type": "markdown",
   "id": "4eda99f1",
   "metadata": {},
   "source": [
    "#### Some of the popular languages that Data Scientists use are:\n",
    "1. Python \n",
    "2. SQL\n",
    "3.  C++\n",
    "4. Java"
   ]
  },
  {
   "cell_type": "markdown",
   "id": "bcfd38ca",
   "metadata": {},
   "source": [
    "### Some of the commonly used libraries used by Data Scientists include:\n",
    "1. NumPy\n",
    "2. MatplotLib\n",
    "3. TensorFlow\n",
    "4. SciKit-Learn\n"
   ]
  },
  {
   "cell_type": "markdown",
   "id": "c3a07473",
   "metadata": {},
   "source": [
    " -----------------------\n",
    "|Data Science tools|\n",
    "-----------------------\n",
    "|RStudio|\n",
    "|TensorFlow|\n",
    "|Apache Spark|\n"
   ]
  },
  {
   "cell_type": "markdown",
   "id": "88bdf21c",
   "metadata": {},
   "source": [
    "### Below are a few examples of evaluating arithmetic expressions in Python.\n"
   ]
  },
  {
   "cell_type": "code",
   "execution_count": 2,
   "id": "359a0592",
   "metadata": {},
   "outputs": [
    {
     "data": {
      "text/plain": [
       "17"
      ]
     },
     "execution_count": 2,
     "metadata": {},
     "output_type": "execute_result"
    }
   ],
   "source": [
    "#This a simple arithmetic expression to mutiply then add integers\n",
    "(3*4)+5"
   ]
  },
  {
   "cell_type": "code",
   "execution_count": 9,
   "id": "6c48aeb9",
   "metadata": {},
   "outputs": [
    {
     "name": "stdout",
     "output_type": "stream",
     "text": [
      "200 minutes in hours is equal to total of 3.3333333333333335 hours\n"
     ]
    }
   ],
   "source": [
    "# This will convert 200 minutes to hours by diving by 60\n",
    "mins=200\n",
    "hour=60\n",
    "convert=mins/hour\n",
    "print(\"200 minutes in hours is equal to total of\",convert, \"hours\")"
   ]
  },
  {
   "cell_type": "code",
   "execution_count": null,
   "id": "ca85aa16",
   "metadata": {},
   "outputs": [],
   "source": []
  },
  {
   "cell_type": "markdown",
   "id": "cccdc7de",
   "metadata": {},
   "source": [
    "## Author\n",
    "Khaled Mahmoud "
   ]
  }
 ],
 "metadata": {
  "kernelspec": {
   "display_name": "Python 3 (ipykernel)",
   "language": "python",
   "name": "python3"
  },
  "language_info": {
   "codemirror_mode": {
    "name": "ipython",
    "version": 3
   },
   "file_extension": ".py",
   "mimetype": "text/x-python",
   "name": "python",
   "nbconvert_exporter": "python",
   "pygments_lexer": "ipython3",
   "version": "3.8.2"
  }
 },
 "nbformat": 4,
 "nbformat_minor": 5
}
